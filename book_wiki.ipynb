{
 "cells": [
  {
   "cell_type": "code",
   "execution_count": 1,
   "metadata": {},
   "outputs": [],
   "source": [
    "import rdflib\n",
    "from rdflib.graph import Graph, URIRef\n",
    "from SPARQLWrapper import SPARQLWrapper, XML\n"
   ]
  },
  {
   "cell_type": "code",
   "execution_count": 5,
   "metadata": {},
   "outputs": [
    {
     "name": "stdout",
     "output_type": "stream",
     "text": [
      "I might take some time, bear with me...\n",
      "...All done!\n",
      "\n"
     ]
    }
   ],
   "source": [
    "sparql = SPARQLWrapper(\"https://query.wikidata.org/sparql\")\n",
    "\n",
    "construct_query= \"\"\"\n",
    "PREFIX ma: <http://www.semanticweb.org/dibah/ontologies/2024/3/untitled-ontology-11#>\n",
    "PREFIX rdf: <http://www.w3.org/1999/02/22-rdf-syntax-ns#>\n",
    "PREFIX wdt: <http://www.wikidata.org/prop/direct/>\n",
    "PREFIX wikibase: <http://wikiba.se/ontology#>\n",
    "PREFIX wd: <http://www.wikidata.org/entity/>\n",
    "\n",
    "CONSTRUCT {\n",
    "  ?book rdf:type ma:Book .\n",
    "  ?book ma:title ?name .\n",
    "  ?book ma:written_by ?author .\n",
    "  ?book ma:publisher_of ?publisher .\n",
    "  ?publisher rdf:type ma:publisher .\n",
    "  ?book ma:literaryGenre_of ?genre .\n",
    "  ?genre rdf:type ma:literaryGenre .\n",
    "  ?book ma:releaseDate ?releaseDate .\n",
    "  ?book ma:Country ?Country .\n",
    "  ?book rdf:type ma:character .\n",
    "  ?character rdf:type ma:character .\n",
    "}\n",
    "WHERE {\n",
    "  ?book wdt:P31 wd:Q571 .\n",
    "  ?book wdt:P1476 ?name .\n",
    "  FILTER (LANG(?name) = 'en') .\n",
    "\n",
    "  OPTIONAL { ?book wdt:P50 ?author . }\n",
    "  OPTIONAL { ?book wdt:P136 ?genre . }\n",
    "  OPTIONAL { ?book wdt:P123 ?publisher . }\n",
    "  ?book wdt:P577 ?releaseDate .\n",
    "  OPTIONAL { ?book wdt:P495 ?Country . }\n",
    "}\"\"\"\n",
    "\n",
    "sparql.setQuery(construct_query)\n",
    "sparql.setReturnFormat(XML)\n",
    "\n",
    "graph_id = URIRef(\"http://www.semanticweb.org/store/book\")\n",
    "g = Graph(identifier=graph_id)\n",
    "\n",
    "print(\"I might take some time, bear with me...\")\n",
    "\n",
    "results = sparql.query().convert()\n",
    "\n",
    "g += results\n",
    "\n",
    "g.serialize(\"book_wiki.owl\", format=\"xml\")\n",
    "\n",
    "print(\"...All done!\")\n",
    "print(\"\")"
   ]
  }
 ],
 "metadata": {
  "kernelspec": {
   "display_name": "Python 3",
   "language": "python",
   "name": "python3"
  },
  "language_info": {
   "codemirror_mode": {
    "name": "ipython",
    "version": 3
   },
   "file_extension": ".py",
   "mimetype": "text/x-python",
   "name": "python",
   "nbconvert_exporter": "python",
   "pygments_lexer": "ipython3",
   "version": "3.11.6"
  }
 },
 "nbformat": 4,
 "nbformat_minor": 2
}
