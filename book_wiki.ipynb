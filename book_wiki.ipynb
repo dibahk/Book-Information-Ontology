{
 "cells": [
  {
   "cell_type": "code",
   "execution_count": 13,
   "metadata": {},
   "outputs": [],
   "source": [
    "import rdflib\n",
    "from rdflib.graph import Graph, URIRef\n",
    "from SPARQLWrapper import SPARQLWrapper, XML\n"
   ]
  },
  {
   "cell_type": "code",
   "execution_count": 14,
   "metadata": {},
   "outputs": [
    {
     "name": "stdout",
     "output_type": "stream",
     "text": [
      "I might take some time, bear with me...\n",
      "...All done!\n",
      "\n"
     ]
    }
   ],
   "source": [
    "sparql = SPARQLWrapper(\"https://query.wikidata.org/sparql\")\n",
    "\n",
    "construct_query= \"\"\"\n",
    "PREFIX ma: <http://www.semanticweb.org/dibah/ontologies/2024/3/untitled-ontology-11#>\n",
    "PREFIX rdf: <http://www.w3.org/1999/02/22-rdf-syntax-ns#>\n",
    "PREFIX wdt: <http://www.wikidata.org/prop/direct/>\n",
    "PREFIX wikibase: <http://wikiba.se/ontology#>\n",
    "PREFIX wd: <http://www.wikidata.org/entity/>\n",
    "\n",
    "CONSTRUCT {\n",
    "    ?book rdf:type ma:Book .\n",
    "    ?book ma:title ?name .\n",
    "    ?book ma:written_by ?author .\n",
    "    ?author rdf:type ma:Author .\n",
    "    ?book ma:published_by ?publisher .\n",
    "    ?publisher rdf:type ma:publisher .\n",
    "    ?book ma:has_genre ?genre .\n",
    "    ?genre rdf:type ma:literaryGenre .\n",
    "    ?book ma:cover_designed_by ?coverArtist .\n",
    "    ?book ma:numberOfPages ?numberOfPages .\n",
    "    ?book ma:isbn ?isbn .\n",
    "    ?book ma:releaseDate ?releaseDate .\n",
    "    ?book ma:has_publish_country ?country .\n",
    "    ?country rdf:type ma:Country .\n",
    "    ?book ma:has_language ?lang .\n",
    "    ?lang rdf:type ma:Language .\n",
    "    ?book ma:has_character ?Character .\n",
    "    ?Character rdf:type ma:Character .      \n",
    "  }\n",
    "WHERE {\n",
    "  ?book wdt:P31 wd:Q571 .\n",
    "  ?book wdt:P1476 ?name .\n",
    "  OPTIONAL { ?book wdt:P407 ?lang .}\n",
    "  OPTIONAL { ?book wdt:P50 ?author . }\n",
    "  OPTIONAL { ?book wdt:P136 ?genre . }\n",
    "  OPTIONAL { ?book wdt:P123 ?publisher . }\n",
    "  ?book wdt:P577 ?releaseDate .\n",
    "  OPTIONAL { ?book wdt:P495 ?Country . }\n",
    "  OPTIONAL { ?book wdt:P736 ?coverArtist . }\n",
    "  OPTIONAL { ?book wdt:P674 ?Character . }\n",
    "\n",
    "  FILTER (LANG(?name) = 'en') .\n",
    "}\"\"\"\n",
    "\n",
    "sparql.setQuery(construct_query)\n",
    "sparql.setReturnFormat(XML)\n",
    "\n",
    "graph_id = URIRef(\"http://www.semanticweb.org/store/book\")\n",
    "g = Graph(identifier=graph_id)\n",
    "\n",
    "print(\"I might take some time, bear with me...\")\n",
    "\n",
    "g = sparql.query().convert()\n",
    "\n",
    "g.parse(\"book_dbpedia.owl\")\n",
    "\n",
    "g.serialize(\"book_bonus.owl\", format=\"xml\")\n",
    "\n",
    "print(\"...All done!\")\n",
    "print(\"\")"
   ]
  }
 ],
 "metadata": {
  "kernelspec": {
   "display_name": "Python 3",
   "language": "python",
   "name": "python3"
  },
  "language_info": {
   "codemirror_mode": {
    "name": "ipython",
    "version": 3
   },
   "file_extension": ".py",
   "mimetype": "text/x-python",
   "name": "python",
   "nbconvert_exporter": "python",
   "pygments_lexer": "ipython3",
   "version": "3.11.6"
  }
 },
 "nbformat": 4,
 "nbformat_minor": 2
}
